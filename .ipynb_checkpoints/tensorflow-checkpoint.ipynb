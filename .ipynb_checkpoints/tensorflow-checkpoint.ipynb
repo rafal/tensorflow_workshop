{
 "cells": [
  {
   "cell_type": "code",
   "execution_count": 1,
   "metadata": {},
   "outputs": [],
   "source": [
    "### Helper function for uploading MNIST dataset ###\n",
    "\n",
    "import os\n",
    "import struct\n",
    "import random\n",
    "import numpy as np\n",
    "import matplotlib.pyplot as plt\n",
    "import tensorflow as tf\n",
    "%matplotlib inline\n",
    "\n",
    "\"\"\"\n",
    "Loosely inspired by http://abel.ee.ucla.edu/cvxopt/_downloads/mnist.py\n",
    "which is GPL licensed.\n",
    "\"\"\"\n",
    "\n",
    "def read(dataset = \"training\", path = \".\"):\n",
    "    \"\"\"\n",
    "    Python function for importing the MNIST data set.  It returns an iterator\n",
    "    of 2-tuples with the first element being the label and the second element\n",
    "    being a numpy.uint8 2D array of pixel data for the given image.\n",
    "    \"\"\"\n",
    "\n",
    "    if dataset is \"training\":\n",
    "        fname_img = os.path.join(path, 'train-images-idx3-ubyte/data')\n",
    "        fname_lbl = os.path.join(path, 'train-labels-idx1-ubyte/data')\n",
    "    elif dataset is \"testing\":\n",
    "        fname_img = os.path.join(path, 't10k-images-idx3-ubyte/data')\n",
    "        fname_lbl = os.path.join(path, 't10k-labels-idx1-ubyte/data')\n",
    "    else:\n",
    "        raise ValueError(\"dataset must be 'testing' or 'training'\")\n",
    "\n",
    "    # Load everything in some numpy arrays\n",
    "    with open(fname_lbl, 'rb') as flbl:\n",
    "        magic, num = struct.unpack(\">II\", flbl.read(8))\n",
    "        lbl = np.fromfile(flbl, dtype=np.int8)\n",
    "\n",
    "    with open(fname_img, 'rb') as fimg:\n",
    "        magic, num, rows, cols = struct.unpack(\">IIII\", fimg.read(16))\n",
    "        img = np.fromfile(fimg, dtype=np.uint8).reshape(len(lbl), rows, cols)\n",
    "\n",
    "    get_img = lambda idx: (lbl[idx], img[idx])\n",
    "\n",
    "    # Create an iterator which returns each image in turn\n",
    "    for i in range(len(lbl)):\n",
    "        yield get_img(i)"
   ]
  },
  {
   "cell_type": "code",
   "execution_count": 2,
   "metadata": {},
   "outputs": [],
   "source": [
    "### Helper function turning MNIST data to matrix ###\n",
    "def toMatrix(data, maxItems=1000):\n",
    "    datalist = [t for t in data]\n",
    "    m = maxItems\n",
    "    n = 28 * 28\n",
    "    X = np.matrix(np.zeros(m * n)).reshape(m, n)\n",
    "    Y = np.matrix(np.zeros(m)).reshape(m, 1)\n",
    "    for i, (label, image) in enumerate(datalist[:m]):\n",
    "        X[i] = image.reshape(28*28,)\n",
    "        Y[i] = label\n",
    "    return X, Y"
   ]
  },
  {
   "cell_type": "code",
   "execution_count": 3,
   "metadata": {},
   "outputs": [],
   "source": [
    "def normalize_grayscale(image_data):\n",
    "    \"\"\"\n",
    "    Normalize the image data with Min-Max scaling to a range of [0.1, 0.9]\n",
    "    :param image_data: The image data to be normalized\n",
    "    :return: Normalized image data\n",
    "    \"\"\"\n",
    "    a = -1.0\n",
    "    b = 1.0\n",
    "    grayscale_min = 0\n",
    "    grayscale_max = 255\n",
    "    return a + ( ( (image_data - grayscale_min)*(b - a) )/( grayscale_max - grayscale_min ) )"
   ]
  },
  {
   "cell_type": "code",
   "execution_count": 4,
   "metadata": {},
   "outputs": [],
   "source": [
    "### Reading training and testing data ###\n",
    "\n",
    "data_train = list(read(\"training\"))\n",
    "data_test = list(read(\"testing\"))\n",
    "\n",
    "train = toMatrix(data_train)\n",
    "test = toMatrix(data_test)\n",
    "\n",
    "#train_features = train[0]\n",
    "train_features = normalize_grayscale(train[0])\n",
    "train_labels = train[1].astype(int)\n",
    "\n",
    "test_features = test[0]\n",
    "test_labels = test[1].astype(int)"
   ]
  },
  {
   "cell_type": "code",
   "execution_count": 5,
   "metadata": {},
   "outputs": [],
   "source": [
    "#print((0.1+(test_features-0)*(0.9-0.1)/(255-0))[0])\n",
    "#print(train_features[0])"
   ]
  },
  {
   "cell_type": "code",
   "execution_count": 6,
   "metadata": {},
   "outputs": [],
   "source": [
    "n_features = 784\n",
    "n_labels = 10\n",
    "weights = tf.Variable(tf.truncated_normal((n_features, n_labels)))"
   ]
  },
  {
   "cell_type": "code",
   "execution_count": 7,
   "metadata": {},
   "outputs": [],
   "source": [
    "bias = tf.Variable(tf.zeros(n_labels))"
   ]
  },
  {
   "cell_type": "code",
   "execution_count": 8,
   "metadata": {},
   "outputs": [],
   "source": [
    "def linear_prediction(features, weights, bias):\n",
    "    return tf.add(tf.matmul(features, weights), bias)"
   ]
  },
  {
   "cell_type": "code",
   "execution_count": 9,
   "metadata": {},
   "outputs": [],
   "source": [
    "learning_rate = 0.5\n",
    "epochs = 5\n",
    "batch_size = 100\n",
    "\n",
    "features = tf.placeholder(tf.float32)\n",
    "labels = tf.placeholder(tf.int32)\n",
    "\n",
    "logits = linear_prediction(features, weights, bias)\n",
    "one_hot = tf.one_hot(labels, n_labels)\n",
    "\n",
    "scores = tf.nn.softmax(logits)\n",
    "cross = tf.reduce_mean(tf.nn.softmax_cross_entropy_with_logits(labels=one_hot, logits=logits))\n",
    "loss = tf.reduce_mean(cross)\n",
    "\n",
    "optimizer = tf.train.GradientDescentOptimizer(learning_rate).minimize(loss)"
   ]
  },
  {
   "cell_type": "code",
   "execution_count": 10,
   "metadata": {},
   "outputs": [],
   "source": [
    "output = None\n",
    "import math\n",
    "with tf.Session() as sess:\n",
    "    sess.run(tf.global_variables_initializer())\n",
    "    \n",
    "    batch_count = int(math.ceil(len(train_features)/batch_size))\n",
    "    \n",
    "    for epoch_i in range(epochs):\n",
    "        \n",
    "        for batch_i in range(batch_count):\n",
    "            batch_start = batch_i*batch_size\n",
    "            batch_features = train_features[batch_start:batch_start + batch_size]\n",
    "            batch_labels = train_labels[batch_start:batch_start + batch_size]\n",
    "\n",
    "            _, l = sess.run([optimizer, loss], feed_dict={features: batch_features, labels: batch_labels})\n",
    "    \n",
    "    # scores, l = sess.run([scores, loss], feed_dict={features: train_features, labels: train_labels})\n",
    "    #_, l = sess.run([optimizer, loss], feed_dict={features: train_features, labels: train_labels})\n",
    "    output = sess.run(scores, feed_dict={features: train_features, labels: train_labels})\n",
    "    \n",
    "    #test_score = sess.run(scores, feed_dict={features: test_features, labels: test_labels})\n",
    "    "
   ]
  },
  {
   "cell_type": "raw",
   "metadata": {},
   "source": [
    "print(l)"
   ]
  },
  {
   "cell_type": "code",
   "execution_count": 10,
   "metadata": {},
   "outputs": [
    {
     "name": "stdout",
     "output_type": "stream",
     "text": [
      "Accuracy = 0.754\n"
     ]
    }
   ],
   "source": [
    "verbose = 0 # set this to 1 if you want to see actual classifications\n",
    "accuracy = 0.0\n",
    "for i in range(len(train_features)):\n",
    "    pred = np.argmax(output[i])\n",
    "    actual = train_labels[i, 0]\n",
    "    if verbose == 1:\n",
    "        print(str(i+1) + \". Predicted:\", pred, \"Label:\", actual, \"Predictions:\", np.round(output[i],4))\n",
    "    accuracy += 1 if pred == actual else 0\n",
    "print(\"Accuracy = \" + str(accuracy/len(train_features)))"
   ]
  },
  {
   "cell_type": "code",
   "execution_count": null,
   "metadata": {
    "collapsed": true
   },
   "outputs": [],
   "source": []
  }
 ],
 "metadata": {
  "kernelspec": {
   "display_name": "Python 3",
   "language": "python",
   "name": "python3"
  },
  "language_info": {
   "codemirror_mode": {
    "name": "ipython",
    "version": 3
   },
   "file_extension": ".py",
   "mimetype": "text/x-python",
   "name": "python",
   "nbconvert_exporter": "python",
   "pygments_lexer": "ipython3",
   "version": "3.6.3"
  }
 },
 "nbformat": 4,
 "nbformat_minor": 2
}
